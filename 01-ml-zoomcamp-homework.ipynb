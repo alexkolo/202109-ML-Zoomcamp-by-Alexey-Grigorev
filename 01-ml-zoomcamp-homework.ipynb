{
 "cells": [
  {
   "cell_type": "code",
   "execution_count": 1,
   "id": "a91f1633",
   "metadata": {
    "_cell_guid": "b1076dfc-b9ad-4769-8c92-a6c4dae69d19",
    "_uuid": "8f2839f25d086af736a60e9eeb907d3b93b6e0e5",
    "execution": {
     "iopub.execute_input": "2021-09-06T16:37:58.175270Z",
     "iopub.status.busy": "2021-09-06T16:37:58.174639Z",
     "iopub.status.idle": "2021-09-06T16:37:58.177791Z",
     "shell.execute_reply": "2021-09-06T16:37:58.177222Z",
     "shell.execute_reply.started": "2021-09-06T16:18:16.861237Z"
    },
    "papermill": {
     "duration": 0.031575,
     "end_time": "2021-09-06T16:37:58.177962",
     "exception": false,
     "start_time": "2021-09-06T16:37:58.146387",
     "status": "completed"
    },
    "tags": []
   },
   "outputs": [],
   "source": [
    "import numpy as np # linear algebra\n",
    "import pandas as pd # data processing, CSV file I/O (e.g. pd.read_csv)\n"
   ]
  },
  {
   "cell_type": "markdown",
   "id": "133237b4",
   "metadata": {
    "papermill": {
     "duration": 0.01547,
     "end_time": "2021-09-06T16:37:58.209923",
     "exception": false,
     "start_time": "2021-09-06T16:37:58.194453",
     "status": "completed"
    },
    "tags": []
   },
   "source": [
    "Homework : https://github.com/alexeygrigorev/mlbookcamp-code/blob/master/course-zoomcamp/01-intro/homework.md"
   ]
  },
  {
   "cell_type": "markdown",
   "id": "5990657b",
   "metadata": {
    "papermill": {
     "duration": 0.015295,
     "end_time": "2021-09-06T16:37:58.241305",
     "exception": false,
     "start_time": "2021-09-06T16:37:58.226010",
     "status": "completed"
    },
    "tags": []
   },
   "source": [
    "## Question 1: Version of NumPy"
   ]
  },
  {
   "cell_type": "code",
   "execution_count": 2,
   "id": "04fdf215",
   "metadata": {
    "execution": {
     "iopub.execute_input": "2021-09-06T16:37:58.280433Z",
     "iopub.status.busy": "2021-09-06T16:37:58.279549Z",
     "iopub.status.idle": "2021-09-06T16:37:58.283216Z",
     "shell.execute_reply": "2021-09-06T16:37:58.283710Z",
     "shell.execute_reply.started": "2021-09-06T16:18:16.877860Z"
    },
    "papermill": {
     "duration": 0.026866,
     "end_time": "2021-09-06T16:37:58.283882",
     "exception": false,
     "start_time": "2021-09-06T16:37:58.257016",
     "status": "completed"
    },
    "tags": []
   },
   "outputs": [
    {
     "data": {
      "text/plain": [
       "'1.19.5'"
      ]
     },
     "execution_count": 2,
     "metadata": {},
     "output_type": "execute_result"
    }
   ],
   "source": [
    "np.__version__"
   ]
  },
  {
   "cell_type": "markdown",
   "id": "a7565f20",
   "metadata": {
    "papermill": {
     "duration": 0.015968,
     "end_time": "2021-09-06T16:37:58.316174",
     "exception": false,
     "start_time": "2021-09-06T16:37:58.300206",
     "status": "completed"
    },
    "tags": []
   },
   "source": [
    "## Question 2: Version of Pandas"
   ]
  },
  {
   "cell_type": "code",
   "execution_count": 3,
   "id": "ac6f1407",
   "metadata": {
    "execution": {
     "iopub.execute_input": "2021-09-06T16:37:58.353549Z",
     "iopub.status.busy": "2021-09-06T16:37:58.352695Z",
     "iopub.status.idle": "2021-09-06T16:37:58.356618Z",
     "shell.execute_reply": "2021-09-06T16:37:58.356058Z",
     "shell.execute_reply.started": "2021-09-06T16:18:39.043914Z"
    },
    "papermill": {
     "duration": 0.024178,
     "end_time": "2021-09-06T16:37:58.356745",
     "exception": false,
     "start_time": "2021-09-06T16:37:58.332567",
     "status": "completed"
    },
    "tags": []
   },
   "outputs": [
    {
     "data": {
      "text/plain": [
       "'1.2.4'"
      ]
     },
     "execution_count": 3,
     "metadata": {},
     "output_type": "execute_result"
    }
   ],
   "source": [
    "pd.__version__"
   ]
  },
  {
   "cell_type": "markdown",
   "id": "8c34a3a2",
   "metadata": {
    "papermill": {
     "duration": 0.017044,
     "end_time": "2021-09-06T16:37:58.390608",
     "exception": false,
     "start_time": "2021-09-06T16:37:58.373564",
     "status": "completed"
    },
    "tags": []
   },
   "source": [
    "## Question 3 : What's the average price of BMW cars in the dataset?"
   ]
  },
  {
   "cell_type": "code",
   "execution_count": 4,
   "id": "747a562c",
   "metadata": {
    "execution": {
     "iopub.execute_input": "2021-09-06T16:37:58.439540Z",
     "iopub.status.busy": "2021-09-06T16:37:58.438969Z",
     "iopub.status.idle": "2021-09-06T16:37:59.569252Z",
     "shell.execute_reply": "2021-09-06T16:37:59.568728Z",
     "shell.execute_reply.started": "2021-09-06T16:19:05.941138Z"
    },
    "papermill": {
     "duration": 1.162626,
     "end_time": "2021-09-06T16:37:59.569402",
     "exception": false,
     "start_time": "2021-09-06T16:37:58.406776",
     "status": "completed"
    },
    "tags": []
   },
   "outputs": [
    {
     "name": "stdout",
     "output_type": "stream",
     "text": [
      "--2021-09-06 16:37:59--  https://raw.githubusercontent.com/alexeygrigorev/mlbookcamp-code/master/chapter-02-car-price/data.csv\r\n",
      "Resolving raw.githubusercontent.com (raw.githubusercontent.com)... 185.199.111.133, 185.199.110.133, 185.199.109.133, ...\r\n",
      "Connecting to raw.githubusercontent.com (raw.githubusercontent.com)|185.199.111.133|:443... connected.\r\n",
      "HTTP request sent, awaiting response... 200 OK\r\n",
      "Length: 1475504 (1.4M) [text/plain]\r\n",
      "Saving to: ‘data.csv’\r\n",
      "\r\n",
      "data.csv            100%[===================>]   1.41M  --.-KB/s    in 0.06s   \r\n",
      "\r\n",
      "2021-09-06 16:37:59 (24.2 MB/s) - ‘data.csv’ saved [1475504/1475504]\r\n",
      "\r\n"
     ]
    }
   ],
   "source": [
    "!wget https://raw.githubusercontent.com/alexeygrigorev/mlbookcamp-code/master/chapter-02-car-price/data.csv"
   ]
  },
  {
   "cell_type": "code",
   "execution_count": 5,
   "id": "19090857",
   "metadata": {
    "execution": {
     "iopub.execute_input": "2021-09-06T16:37:59.611352Z",
     "iopub.status.busy": "2021-09-06T16:37:59.610669Z",
     "iopub.status.idle": "2021-09-06T16:37:59.749033Z",
     "shell.execute_reply": "2021-09-06T16:37:59.748267Z",
     "shell.execute_reply.started": "2021-09-06T16:19:55.277294Z"
    },
    "papermill": {
     "duration": 0.161977,
     "end_time": "2021-09-06T16:37:59.749202",
     "exception": false,
     "start_time": "2021-09-06T16:37:59.587225",
     "status": "completed"
    },
    "tags": []
   },
   "outputs": [],
   "source": [
    "df = pd.read_csv('data.csv')\n",
    "#df.head()"
   ]
  },
  {
   "cell_type": "code",
   "execution_count": 6,
   "id": "ac9ed1ba",
   "metadata": {
    "execution": {
     "iopub.execute_input": "2021-09-06T16:37:59.797729Z",
     "iopub.status.busy": "2021-09-06T16:37:59.797020Z",
     "iopub.status.idle": "2021-09-06T16:37:59.799855Z",
     "shell.execute_reply": "2021-09-06T16:37:59.800344Z",
     "shell.execute_reply.started": "2021-09-06T16:21:28.284249Z"
    },
    "papermill": {
     "duration": 0.033417,
     "end_time": "2021-09-06T16:37:59.800515",
     "exception": false,
     "start_time": "2021-09-06T16:37:59.767098",
     "status": "completed"
    },
    "tags": []
   },
   "outputs": [
    {
     "data": {
      "text/plain": [
       "61546.76347305389"
      ]
     },
     "execution_count": 6,
     "metadata": {},
     "output_type": "execute_result"
    }
   ],
   "source": [
    "df['MSRP'].loc[df['Make'] == 'BMW'].mean()"
   ]
  },
  {
   "cell_type": "markdown",
   "id": "fd8d3ef4",
   "metadata": {
    "papermill": {
     "duration": 0.018622,
     "end_time": "2021-09-06T16:37:59.837287",
     "exception": false,
     "start_time": "2021-09-06T16:37:59.818665",
     "status": "completed"
    },
    "tags": []
   },
   "source": [
    "## Question 4: Number of missing values in \"Engine HP\" after 2015"
   ]
  },
  {
   "cell_type": "code",
   "execution_count": 7,
   "id": "a62b4ffa",
   "metadata": {
    "execution": {
     "iopub.execute_input": "2021-09-06T16:37:59.879476Z",
     "iopub.status.busy": "2021-09-06T16:37:59.878793Z",
     "iopub.status.idle": "2021-09-06T16:37:59.901034Z",
     "shell.execute_reply": "2021-09-06T16:37:59.901495Z",
     "shell.execute_reply.started": "2021-09-06T16:22:46.733760Z"
    },
    "papermill": {
     "duration": 0.045848,
     "end_time": "2021-09-06T16:37:59.901670",
     "exception": false,
     "start_time": "2021-09-06T16:37:59.855822",
     "status": "completed"
    },
    "tags": []
   },
   "outputs": [
    {
     "data": {
      "text/plain": [
       "51"
      ]
     },
     "execution_count": 7,
     "metadata": {},
     "output_type": "execute_result"
    }
   ],
   "source": [
    "df['Engine HP'].loc[df['Year'] >= 2015].isnull().sum()"
   ]
  },
  {
   "cell_type": "markdown",
   "id": "7d81395c",
   "metadata": {
    "papermill": {
     "duration": 0.019006,
     "end_time": "2021-09-06T16:37:59.940104",
     "exception": false,
     "start_time": "2021-09-06T16:37:59.921098",
     "status": "completed"
    },
    "tags": []
   },
   "source": [
    "## Question 5: Does the mean change after filling missing values?"
   ]
  },
  {
   "cell_type": "code",
   "execution_count": 8,
   "id": "b35d0972",
   "metadata": {
    "execution": {
     "iopub.execute_input": "2021-09-06T16:37:59.983652Z",
     "iopub.status.busy": "2021-09-06T16:37:59.983012Z",
     "iopub.status.idle": "2021-09-06T16:37:59.985903Z",
     "shell.execute_reply": "2021-09-06T16:37:59.986410Z",
     "shell.execute_reply.started": "2021-09-06T16:25:42.245076Z"
    },
    "papermill": {
     "duration": 0.027238,
     "end_time": "2021-09-06T16:37:59.986578",
     "exception": false,
     "start_time": "2021-09-06T16:37:59.959340",
     "status": "completed"
    },
    "tags": []
   },
   "outputs": [],
   "source": [
    "mean_hp_before = df['Engine HP'].loc[df['Year'] >= 2015].mean()"
   ]
  },
  {
   "cell_type": "code",
   "execution_count": 9,
   "id": "4a4d0c39",
   "metadata": {
    "execution": {
     "iopub.execute_input": "2021-09-06T16:38:00.029993Z",
     "iopub.status.busy": "2021-09-06T16:38:00.029349Z",
     "iopub.status.idle": "2021-09-06T16:38:00.034421Z",
     "shell.execute_reply": "2021-09-06T16:38:00.034893Z",
     "shell.execute_reply.started": "2021-09-06T16:25:43.696258Z"
    },
    "papermill": {
     "duration": 0.02946,
     "end_time": "2021-09-06T16:38:00.035064",
     "exception": false,
     "start_time": "2021-09-06T16:38:00.005604",
     "status": "completed"
    },
    "tags": []
   },
   "outputs": [],
   "source": [
    "df01 = df['Engine HP'].loc[df['Year'] >= 2015]\n",
    "mean_hp_after = df01.fillna(df01.mean()).mean()"
   ]
  },
  {
   "cell_type": "code",
   "execution_count": 10,
   "id": "9014778f",
   "metadata": {
    "execution": {
     "iopub.execute_input": "2021-09-06T16:38:00.078324Z",
     "iopub.status.busy": "2021-09-06T16:38:00.077383Z",
     "iopub.status.idle": "2021-09-06T16:38:00.080758Z",
     "shell.execute_reply": "2021-09-06T16:38:00.081298Z",
     "shell.execute_reply.started": "2021-09-06T16:25:44.780612Z"
    },
    "papermill": {
     "duration": 0.027354,
     "end_time": "2021-09-06T16:38:00.081460",
     "exception": false,
     "start_time": "2021-09-06T16:38:00.054106",
     "status": "completed"
    },
    "tags": []
   },
   "outputs": [
    {
     "name": "stdout",
     "output_type": "stream",
     "text": [
      "273\n",
      "273\n"
     ]
    }
   ],
   "source": [
    "print(round(mean_hp_before))\n",
    "print(round(mean_hp_after))"
   ]
  },
  {
   "cell_type": "markdown",
   "id": "7ec69a38",
   "metadata": {
    "papermill": {
     "duration": 0.019583,
     "end_time": "2021-09-06T16:38:00.120672",
     "exception": false,
     "start_time": "2021-09-06T16:38:00.101089",
     "status": "completed"
    },
    "tags": []
   },
   "source": [
    "## Question 6: Sum of elements of the inverse matrix \n",
    "\n",
    "* Select all the \"Rolls-Royce\" cars from the dataset.\n",
    "* Select only columns \"Engine HP\", \"Engine Cylinders\", \"highway MPG\".\n",
    "* Now drop all duplicated rows using drop_duplicates method (you should get a dataframe with 7 rows).\n",
    "* Get the underlying NumPy array. Let's call it X.\n",
    "* Compute matrix-matrix multiplication between the transpose of X and X. To get the transpose, use X.T. Let's call the result XTX.\n",
    "* Invert XTX.\n",
    "* What's the sum of all the elements of the result?\n"
   ]
  },
  {
   "cell_type": "code",
   "execution_count": 11,
   "id": "5b17b57a",
   "metadata": {
    "execution": {
     "iopub.execute_input": "2021-09-06T16:38:00.167424Z",
     "iopub.status.busy": "2021-09-06T16:38:00.166751Z",
     "iopub.status.idle": "2021-09-06T16:38:00.181395Z",
     "shell.execute_reply": "2021-09-06T16:38:00.180830Z",
     "shell.execute_reply.started": "2021-09-06T16:28:16.372121Z"
    },
    "papermill": {
     "duration": 0.04105,
     "end_time": "2021-09-06T16:38:00.181548",
     "exception": false,
     "start_time": "2021-09-06T16:38:00.140498",
     "status": "completed"
    },
    "tags": []
   },
   "outputs": [
    {
     "data": {
      "text/plain": [
       "array([[325.,   8.,  15.],\n",
       "       [563.,  12.,  19.],\n",
       "       [563.,  12.,  21.],\n",
       "       [563.,  12.,  20.],\n",
       "       [322.,  12.,  15.],\n",
       "       [453.,  12.,  19.],\n",
       "       [624.,  12.,  21.]])"
      ]
     },
     "execution_count": 11,
     "metadata": {},
     "output_type": "execute_result"
    }
   ],
   "source": [
    "X = df[[\"Engine HP\", \"Engine Cylinders\", \"highway MPG\"]].loc[df['Make'] == 'Rolls-Royce'].drop_duplicates().to_numpy()\n",
    "X"
   ]
  },
  {
   "cell_type": "code",
   "execution_count": 12,
   "id": "c6894d0f",
   "metadata": {
    "execution": {
     "iopub.execute_input": "2021-09-06T16:38:00.234541Z",
     "iopub.status.busy": "2021-09-06T16:38:00.233795Z",
     "iopub.status.idle": "2021-09-06T16:38:00.248623Z",
     "shell.execute_reply": "2021-09-06T16:38:00.249548Z",
     "shell.execute_reply.started": "2021-09-06T16:31:42.250694Z"
    },
    "papermill": {
     "duration": 0.043932,
     "end_time": "2021-09-06T16:38:00.249790",
     "exception": false,
     "start_time": "2021-09-06T16:38:00.205858",
     "status": "completed"
    },
    "tags": []
   },
   "outputs": [
    {
     "data": {
      "text/plain": [
       "0.032212320677486125"
      ]
     },
     "execution_count": 12,
     "metadata": {},
     "output_type": "execute_result"
    }
   ],
   "source": [
    "np.linalg.inv(X.T.dot(X)).sum() # (X^T * X)^{1-}"
   ]
  },
  {
   "cell_type": "markdown",
   "id": "a9d5e77a",
   "metadata": {
    "papermill": {
     "duration": 0.033818,
     "end_time": "2021-09-06T16:38:00.317276",
     "exception": false,
     "start_time": "2021-09-06T16:38:00.283458",
     "status": "completed"
    },
    "tags": []
   },
   "source": [
    "## Questions 7: Normal equation \n",
    "\n",
    "* Create an array y with values [1000, 1100, 900, 1200, 1000, 850, 1300].\n",
    "* Multiply the inverse of XTX with the transpose of X, and then multiply the result by y. Call the result w.\n",
    "* What's the value of the first element of w?.\n",
    "\n",
    "Note: You just implemented linear regression. We'll talk about it in the next lesson.\n"
   ]
  },
  {
   "cell_type": "code",
   "execution_count": 13,
   "id": "d7eaaf9f",
   "metadata": {
    "execution": {
     "iopub.execute_input": "2021-09-06T16:38:00.381721Z",
     "iopub.status.busy": "2021-09-06T16:38:00.380805Z",
     "iopub.status.idle": "2021-09-06T16:38:00.383759Z",
     "shell.execute_reply": "2021-09-06T16:38:00.384449Z",
     "shell.execute_reply.started": "2021-09-06T16:33:42.944885Z"
    },
    "papermill": {
     "duration": 0.030357,
     "end_time": "2021-09-06T16:38:00.384659",
     "exception": false,
     "start_time": "2021-09-06T16:38:00.354302",
     "status": "completed"
    },
    "tags": []
   },
   "outputs": [],
   "source": [
    "y = np.array([1000, 1100, 900, 1200, 1000, 850, 1300])"
   ]
  },
  {
   "cell_type": "code",
   "execution_count": 14,
   "id": "7daae079",
   "metadata": {
    "execution": {
     "iopub.execute_input": "2021-09-06T16:38:00.433342Z",
     "iopub.status.busy": "2021-09-06T16:38:00.432457Z",
     "iopub.status.idle": "2021-09-06T16:38:00.444189Z",
     "shell.execute_reply": "2021-09-06T16:38:00.445065Z",
     "shell.execute_reply.started": "2021-09-06T16:34:39.960546Z"
    },
    "papermill": {
     "duration": 0.038236,
     "end_time": "2021-09-06T16:38:00.445353",
     "exception": false,
     "start_time": "2021-09-06T16:38:00.407117",
     "status": "completed"
    },
    "tags": []
   },
   "outputs": [
    {
     "data": {
      "text/plain": [
       "array([ 0.19989598, 31.02612262, 31.65378877])"
      ]
     },
     "execution_count": 14,
     "metadata": {},
     "output_type": "execute_result"
    }
   ],
   "source": [
    "w = np.linalg.inv(X.T.dot(X)).dot(X.T).dot(y)\n",
    "w"
   ]
  },
  {
   "cell_type": "code",
   "execution_count": null,
   "id": "6e328e2e",
   "metadata": {
    "papermill": {
     "duration": 0.036294,
     "end_time": "2021-09-06T16:38:00.517571",
     "exception": false,
     "start_time": "2021-09-06T16:38:00.481277",
     "status": "completed"
    },
    "tags": []
   },
   "outputs": [],
   "source": []
  }
 ],
 "metadata": {
  "kernelspec": {
   "display_name": "Python 3",
   "language": "python",
   "name": "python3"
  },
  "language_info": {
   "codemirror_mode": {
    "name": "ipython",
    "version": 3
   },
   "file_extension": ".py",
   "mimetype": "text/x-python",
   "name": "python",
   "nbconvert_exporter": "python",
   "pygments_lexer": "ipython3",
   "version": "3.7.10"
  },
  "papermill": {
   "default_parameters": {},
   "duration": 11.778247,
   "end_time": "2021-09-06T16:38:02.054310",
   "environment_variables": {},
   "exception": null,
   "input_path": "__notebook__.ipynb",
   "output_path": "__notebook__.ipynb",
   "parameters": {},
   "start_time": "2021-09-06T16:37:50.276063",
   "version": "2.3.3"
  }
 },
 "nbformat": 4,
 "nbformat_minor": 5
}
