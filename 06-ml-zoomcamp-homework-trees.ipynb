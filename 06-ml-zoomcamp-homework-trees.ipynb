{
 "cells": [
  {
   "cell_type": "code",
   "execution_count": 1,
   "id": "21585b3f",
   "metadata": {
    "execution": {
     "iopub.execute_input": "2021-10-16T17:40:32.649676Z",
     "iopub.status.busy": "2021-10-16T17:40:32.648473Z",
     "iopub.status.idle": "2021-10-16T17:40:33.821380Z",
     "shell.execute_reply": "2021-10-16T17:40:33.820712Z",
     "shell.execute_reply.started": "2021-10-16T17:38:40.243070Z"
    },
    "papermill": {
     "duration": 1.203978,
     "end_time": "2021-10-16T17:40:33.821571",
     "exception": false,
     "start_time": "2021-10-16T17:40:32.617593",
     "status": "completed"
    },
    "tags": []
   },
   "outputs": [],
   "source": [
    "from IPython.display import Markdown as md\n",
    "import pandas as pd\n",
    "import numpy as np\n",
    "import matplotlib.pyplot as plt\n",
    "import seaborn as sns\n",
    "%matplotlib inline\n",
    "\n",
    "#from sklearn.linear_model import LogisticRegression\n",
    "#from sklearn.metrics import auc as sklearn_auc\n",
    "from sklearn.model_selection import train_test_split\n",
    "from sklearn.feature_extraction import DictVectorizer\n"
   ]
  },
  {
   "cell_type": "code",
   "execution_count": 2,
   "id": "7fab2fa6",
   "metadata": {
    "execution": {
     "iopub.execute_input": "2021-10-16T17:40:33.881255Z",
     "iopub.status.busy": "2021-10-16T17:40:33.880286Z",
     "iopub.status.idle": "2021-10-16T17:40:33.887033Z",
     "shell.execute_reply": "2021-10-16T17:40:33.886354Z",
     "shell.execute_reply.started": "2021-10-16T17:38:40.252114Z"
    },
    "papermill": {
     "duration": 0.033185,
     "end_time": "2021-10-16T17:40:33.887175",
     "exception": false,
     "start_time": "2021-10-16T17:40:33.853990",
     "status": "completed"
    },
    "tags": []
   },
   "outputs": [],
   "source": [
    "import shelve\n",
    "savefile = 'Savefile.sav'"
   ]
  },
  {
   "cell_type": "markdown",
   "id": "d265f0da",
   "metadata": {
    "papermill": {
     "duration": 0.021973,
     "end_time": "2021-10-16T17:40:33.931880",
     "exception": false,
     "start_time": "2021-10-16T17:40:33.909907",
     "status": "completed"
    },
    "tags": []
   },
   "source": [
    "- Homework source https://github.com/alexeygrigorev/mlbookcamp-code/blob/master/course-zoomcamp/06-trees/homework.md\n",
    "- Lecture https://github.com/alexeygrigorev/mlbookcamp-code/blob/master/chapter-06-trees/06-trees.ipynb\n",
    "\n",
    "## 6.10 Homework\n",
    "\n",
    "The goal of this homework is to create a tree-based regression model for prediction apartment prices (column `'price'`).\n",
    "\n",
    "In this homework we'll again use the New York City Airbnb Open Data dataset - the same one we used in homework 2 and 3.\n",
    "\n",
    "You can take it from [Kaggle](https://www.kaggle.com/dgomonov/new-york-city-airbnb-open-data?select=AB_NYC_2019.csv)\n",
    "or download from [here](https://raw.githubusercontent.com/alexeygrigorev/datasets/master/AB_NYC_2019.csv)\n",
    "if you don't want to sign up to Kaggle.\n",
    "\n",
    "\n",
    "For this homework, we prepared a [starter notebook](homework-6-starter.ipynb). \n",
    "\n",
    "\n",
    "## Loading the data\n",
    "\n",
    "* Use only the following columns:\n",
    "    * `'neighbourhood_group',`\n",
    "    * `'room_type',`\n",
    "    * `'latitude',`\n",
    "    * `'longitude',`\n",
    "    * `'minimum_nights',`\n",
    "    * `'number_of_reviews','reviews_per_month',`\n",
    "    * `'calculated_host_listings_count',`\n",
    "    * `'availability_365',`\n",
    "    * `'price'`\n",
    "* Fill NAs with 0\n",
    "* Apply the log tranform to `price`\n",
    "* Do train/validation/test split with 60%/20%/20% distribution. \n",
    "* Use the `train_test_split` function and set the `random_state` parameter to 1\n",
    "* Use `DictVectorizer` to turn the dataframe into matrices"
   ]
  },
  {
   "cell_type": "code",
   "execution_count": 3,
   "id": "a3b17c68",
   "metadata": {
    "execution": {
     "iopub.execute_input": "2021-10-16T17:40:33.981041Z",
     "iopub.status.busy": "2021-10-16T17:40:33.980089Z",
     "iopub.status.idle": "2021-10-16T17:40:33.983631Z",
     "shell.execute_reply": "2021-10-16T17:40:33.984078Z",
     "shell.execute_reply.started": "2021-10-16T17:38:40.271088Z"
    },
    "papermill": {
     "duration": 0.029817,
     "end_time": "2021-10-16T17:40:33.984249",
     "exception": false,
     "start_time": "2021-10-16T17:40:33.954432",
     "status": "completed"
    },
    "tags": []
   },
   "outputs": [],
   "source": [
    "col = ['neighbourhood_group',\n",
    "    'room_type',\n",
    "    'latitude',\n",
    "    'longitude',\n",
    "    'minimum_nights',\n",
    "    'number_of_reviews','reviews_per_month',\n",
    "    'calculated_host_listings_count',\n",
    "    'availability_365',\n",
    "    'price']"
   ]
  },
  {
   "cell_type": "code",
   "execution_count": 4,
   "id": "30ce9efe",
   "metadata": {
    "execution": {
     "iopub.execute_input": "2021-10-16T17:40:34.034088Z",
     "iopub.status.busy": "2021-10-16T17:40:34.033106Z",
     "iopub.status.idle": "2021-10-16T17:40:34.385192Z",
     "shell.execute_reply": "2021-10-16T17:40:34.385637Z",
     "shell.execute_reply.started": "2021-10-16T17:38:40.281338Z"
    },
    "papermill": {
     "duration": 0.379344,
     "end_time": "2021-10-16T17:40:34.385798",
     "exception": false,
     "start_time": "2021-10-16T17:40:34.006454",
     "status": "completed"
    },
    "tags": []
   },
   "outputs": [
    {
     "data": {
      "text/html": [
       "<div>\n",
       "<style scoped>\n",
       "    .dataframe tbody tr th:only-of-type {\n",
       "        vertical-align: middle;\n",
       "    }\n",
       "\n",
       "    .dataframe tbody tr th {\n",
       "        vertical-align: top;\n",
       "    }\n",
       "\n",
       "    .dataframe thead th {\n",
       "        text-align: right;\n",
       "    }\n",
       "</style>\n",
       "<table border=\"1\" class=\"dataframe\">\n",
       "  <thead>\n",
       "    <tr style=\"text-align: right;\">\n",
       "      <th></th>\n",
       "      <th>neighbourhood_group</th>\n",
       "      <th>room_type</th>\n",
       "      <th>latitude</th>\n",
       "      <th>longitude</th>\n",
       "      <th>minimum_nights</th>\n",
       "      <th>number_of_reviews</th>\n",
       "      <th>reviews_per_month</th>\n",
       "      <th>calculated_host_listings_count</th>\n",
       "      <th>availability_365</th>\n",
       "      <th>price</th>\n",
       "    </tr>\n",
       "  </thead>\n",
       "  <tbody>\n",
       "    <tr>\n",
       "      <th>0</th>\n",
       "      <td>Brooklyn</td>\n",
       "      <td>Private room</td>\n",
       "      <td>40.64749</td>\n",
       "      <td>-73.97237</td>\n",
       "      <td>1</td>\n",
       "      <td>9</td>\n",
       "      <td>0.21</td>\n",
       "      <td>6</td>\n",
       "      <td>365</td>\n",
       "      <td>5.010635</td>\n",
       "    </tr>\n",
       "    <tr>\n",
       "      <th>1</th>\n",
       "      <td>Manhattan</td>\n",
       "      <td>Entire home/apt</td>\n",
       "      <td>40.75362</td>\n",
       "      <td>-73.98377</td>\n",
       "      <td>1</td>\n",
       "      <td>45</td>\n",
       "      <td>0.38</td>\n",
       "      <td>2</td>\n",
       "      <td>355</td>\n",
       "      <td>5.420535</td>\n",
       "    </tr>\n",
       "    <tr>\n",
       "      <th>2</th>\n",
       "      <td>Manhattan</td>\n",
       "      <td>Private room</td>\n",
       "      <td>40.80902</td>\n",
       "      <td>-73.94190</td>\n",
       "      <td>3</td>\n",
       "      <td>0</td>\n",
       "      <td>0.00</td>\n",
       "      <td>1</td>\n",
       "      <td>365</td>\n",
       "      <td>5.017280</td>\n",
       "    </tr>\n",
       "    <tr>\n",
       "      <th>3</th>\n",
       "      <td>Brooklyn</td>\n",
       "      <td>Entire home/apt</td>\n",
       "      <td>40.68514</td>\n",
       "      <td>-73.95976</td>\n",
       "      <td>1</td>\n",
       "      <td>270</td>\n",
       "      <td>4.64</td>\n",
       "      <td>1</td>\n",
       "      <td>194</td>\n",
       "      <td>4.499810</td>\n",
       "    </tr>\n",
       "    <tr>\n",
       "      <th>4</th>\n",
       "      <td>Manhattan</td>\n",
       "      <td>Entire home/apt</td>\n",
       "      <td>40.79851</td>\n",
       "      <td>-73.94399</td>\n",
       "      <td>10</td>\n",
       "      <td>9</td>\n",
       "      <td>0.10</td>\n",
       "      <td>1</td>\n",
       "      <td>0</td>\n",
       "      <td>4.394449</td>\n",
       "    </tr>\n",
       "  </tbody>\n",
       "</table>\n",
       "</div>"
      ],
      "text/plain": [
       "  neighbourhood_group        room_type  latitude  longitude  minimum_nights  \\\n",
       "0            Brooklyn     Private room  40.64749  -73.97237               1   \n",
       "1           Manhattan  Entire home/apt  40.75362  -73.98377               1   \n",
       "2           Manhattan     Private room  40.80902  -73.94190               3   \n",
       "3            Brooklyn  Entire home/apt  40.68514  -73.95976               1   \n",
       "4           Manhattan  Entire home/apt  40.79851  -73.94399              10   \n",
       "\n",
       "   number_of_reviews  reviews_per_month  calculated_host_listings_count  \\\n",
       "0                  9               0.21                               6   \n",
       "1                 45               0.38                               2   \n",
       "2                  0               0.00                               1   \n",
       "3                270               4.64                               1   \n",
       "4                  9               0.10                               1   \n",
       "\n",
       "   availability_365     price  \n",
       "0               365  5.010635  \n",
       "1               355  5.420535  \n",
       "2               365  5.017280  \n",
       "3               194  4.499810  \n",
       "4                 0  4.394449  "
      ]
     },
     "execution_count": 4,
     "metadata": {},
     "output_type": "execute_result"
    }
   ],
   "source": [
    "df = (\n",
    " pd.read_csv('../input/new-york-city-airbnb-open-data/AB_NYC_2019.csv')\n",
    "[col]\n",
    ".fillna(0)\n",
    ") \n",
    "df['price'] = np.log1p(df['price'])\n",
    "df.head()"
   ]
  },
  {
   "cell_type": "code",
   "execution_count": 5,
   "id": "f316b280",
   "metadata": {
    "execution": {
     "iopub.execute_input": "2021-10-16T17:40:34.441673Z",
     "iopub.status.busy": "2021-10-16T17:40:34.441003Z",
     "iopub.status.idle": "2021-10-16T17:40:34.458227Z",
     "shell.execute_reply": "2021-10-16T17:40:34.457719Z",
     "shell.execute_reply.started": "2021-10-16T17:38:40.525165Z"
    },
    "papermill": {
     "duration": 0.049266,
     "end_time": "2021-10-16T17:40:34.458361",
     "exception": false,
     "start_time": "2021-10-16T17:40:34.409095",
     "status": "completed"
    },
    "tags": []
   },
   "outputs": [],
   "source": [
    "y='price'\n",
    "test=0.2\n",
    "val=0.2\n",
    "seed=1\n",
    "\n",
    "df_train_full, df_test = train_test_split(df, test_size=test, random_state=seed)\n",
    "df_train, df_val = train_test_split(df_train_full, test_size=val/(1-test), random_state=seed)\n",
    "\n",
    "y_test = df_test[y].copy().values\n",
    "y_val = df_val[y].copy().values\n",
    "y_train = df_train[y].copy().values\n",
    "del df_test[y]\n",
    "del df_val[y]\n",
    "del df_train[y]"
   ]
  },
  {
   "cell_type": "code",
   "execution_count": 6,
   "id": "1e113cf6",
   "metadata": {
    "execution": {
     "iopub.execute_input": "2021-10-16T17:40:34.506909Z",
     "iopub.status.busy": "2021-10-16T17:40:34.506297Z",
     "iopub.status.idle": "2021-10-16T17:40:35.146413Z",
     "shell.execute_reply": "2021-10-16T17:40:35.146938Z",
     "shell.execute_reply.started": "2021-10-16T17:38:40.550530Z"
    },
    "papermill": {
     "duration": 0.665983,
     "end_time": "2021-10-16T17:40:35.147149",
     "exception": false,
     "start_time": "2021-10-16T17:40:34.481166",
     "status": "completed"
    },
    "tags": []
   },
   "outputs": [],
   "source": [
    "# hot encoding\n",
    "dict_train = df_train.to_dict(orient='records')\n",
    "dict_val = df_val.to_dict(orient='records')\n",
    "dv = DictVectorizer(sparse=False)\n",
    "X_train = dv.fit_transform(dict_train)\n",
    "X_val = dv.transform(dict_val)"
   ]
  },
  {
   "cell_type": "markdown",
   "id": "ad90a93e",
   "metadata": {
    "papermill": {
     "duration": 0.023638,
     "end_time": "2021-10-16T17:40:35.194897",
     "exception": false,
     "start_time": "2021-10-16T17:40:35.171259",
     "status": "completed"
    },
    "tags": []
   },
   "source": [
    "## Question 1\n",
    "\n",
    "Let's train a decision tree regressor to predict the price variable. \n",
    "\n",
    "* Train a model with `max_depth=1`\n",
    "\n",
    "\n",
    "Which feature is used for splitting the data?\n",
    "\n",
    "* `room_type`\n",
    "* `neighbourhood_group`\n",
    "* `number_of_reviews`\n",
    "* `reviews_per_month`"
   ]
  },
  {
   "cell_type": "code",
   "execution_count": 7,
   "id": "85dcef3d",
   "metadata": {
    "execution": {
     "iopub.execute_input": "2021-10-16T17:40:35.244366Z",
     "iopub.status.busy": "2021-10-16T17:40:35.243765Z",
     "iopub.status.idle": "2021-10-16T17:40:35.392887Z",
     "shell.execute_reply": "2021-10-16T17:40:35.393402Z",
     "shell.execute_reply.started": "2021-10-16T17:38:41.383224Z"
    },
    "papermill": {
     "duration": 0.175558,
     "end_time": "2021-10-16T17:40:35.393583",
     "exception": false,
     "start_time": "2021-10-16T17:40:35.218025",
     "status": "completed"
    },
    "tags": []
   },
   "outputs": [],
   "source": [
    "# https://scikit-learn.org/stable/modules/generated/sklearn.tree.DecisionTreeRegressor.html\n",
    "from sklearn.tree import DecisionTreeRegressor"
   ]
  },
  {
   "cell_type": "code",
   "execution_count": 8,
   "id": "60841621",
   "metadata": {
    "execution": {
     "iopub.execute_input": "2021-10-16T17:40:35.442977Z",
     "iopub.status.busy": "2021-10-16T17:40:35.442331Z",
     "iopub.status.idle": "2021-10-16T17:40:35.468484Z",
     "shell.execute_reply": "2021-10-16T17:40:35.468982Z",
     "shell.execute_reply.started": "2021-10-16T17:38:41.389615Z"
    },
    "papermill": {
     "duration": 0.052498,
     "end_time": "2021-10-16T17:40:35.469171",
     "exception": false,
     "start_time": "2021-10-16T17:40:35.416673",
     "status": "completed"
    },
    "tags": []
   },
   "outputs": [
    {
     "data": {
      "text/plain": [
       "DecisionTreeRegressor(max_depth=1)"
      ]
     },
     "execution_count": 8,
     "metadata": {},
     "output_type": "execute_result"
    }
   ],
   "source": [
    "dt = DecisionTreeRegressor(max_depth=1)\n",
    "dt.fit(X_train, y_train)"
   ]
  },
  {
   "cell_type": "code",
   "execution_count": 9,
   "id": "562795e3",
   "metadata": {
    "execution": {
     "iopub.execute_input": "2021-10-16T17:40:35.521886Z",
     "iopub.status.busy": "2021-10-16T17:40:35.521199Z",
     "iopub.status.idle": "2021-10-16T17:40:35.524873Z",
     "shell.execute_reply": "2021-10-16T17:40:35.524363Z",
     "shell.execute_reply.started": "2021-10-16T17:38:41.423822Z"
    },
    "papermill": {
     "duration": 0.032353,
     "end_time": "2021-10-16T17:40:35.525029",
     "exception": false,
     "start_time": "2021-10-16T17:40:35.492676",
     "status": "completed"
    },
    "tags": []
   },
   "outputs": [
    {
     "name": "stdout",
     "output_type": "stream",
     "text": [
      "|--- room_type=Entire home/apt <= 0.50\n",
      "|   |--- value: [4.29]\n",
      "|--- room_type=Entire home/apt >  0.50\n",
      "|   |--- value: [5.15]\n",
      "\n"
     ]
    }
   ],
   "source": [
    "from sklearn.tree import export_text\n",
    "print(export_text(dt, feature_names=dv.get_feature_names()))"
   ]
  },
  {
   "cell_type": "code",
   "execution_count": 10,
   "id": "869fc22d",
   "metadata": {
    "execution": {
     "iopub.execute_input": "2021-10-16T17:40:35.592864Z",
     "iopub.status.busy": "2021-10-16T17:40:35.592113Z",
     "iopub.status.idle": "2021-10-16T17:40:35.850037Z",
     "shell.execute_reply": "2021-10-16T17:40:35.849418Z",
     "shell.execute_reply.started": "2021-10-16T17:38:41.431701Z"
    },
    "papermill": {
     "duration": 0.301363,
     "end_time": "2021-10-16T17:40:35.850178",
     "exception": false,
     "start_time": "2021-10-16T17:40:35.548815",
     "status": "completed"
    },
    "tags": []
   },
   "outputs": [
    {
     "data": {
      "image/png": "[encoded data removed]",
      "text/plain": [
       "<Figure size 432x288 with 1 Axes>"
      ]
     },
     "metadata": {
      "needs_background": "light"
     },
     "output_type": "display_data"
    }
   ],
   "source": [
    "from sklearn.tree import plot_tree\n",
    "plot_tree(dt, feature_names=dv.get_feature_names())\n",
    "plt.show()"
   ]
  },
  {
   "cell_type": "code",
   "execution_count": 11,
   "id": "427fcd23",
   "metadata": {
    "execution": {
     "iopub.execute_input": "2021-10-16T17:40:35.902171Z",
     "iopub.status.busy": "2021-10-16T17:40:35.901594Z",
     "iopub.status.idle": "2021-10-16T17:40:35.906237Z",
     "shell.execute_reply": "2021-10-16T17:40:35.906628Z",
     "shell.execute_reply.started": "2021-10-16T17:38:41.699577Z"
    },
    "papermill": {
     "duration": 0.032083,
     "end_time": "2021-10-16T17:40:35.906789",
     "exception": false,
     "start_time": "2021-10-16T17:40:35.874706",
     "status": "completed"
    },
    "tags": []
   },
   "outputs": [
    {
     "data": {
      "text/markdown": [
       "### Which feature is used for splitting the data?: **room_type**"
      ],
      "text/plain": [
       "<IPython.core.display.Markdown object>"
      ]
     },
     "execution_count": 11,
     "metadata": {},
     "output_type": "execute_result"
    }
   ],
   "source": [
    "# first node\n",
    "feature_id = dt.tree_.feature[0] # [12, -2, -2]\n",
    "feature_name = dv.get_feature_names()[feature_id] # 'room_type=Entire home/apt'\n",
    "md(f'### Which feature is used for splitting the data?: **{feature_name.split(\"=\")[0]}**')"
   ]
  },
  {
   "cell_type": "markdown",
   "id": "118fd05e",
   "metadata": {
    "papermill": {
     "duration": 0.023919,
     "end_time": "2021-10-16T17:40:35.955005",
     "exception": false,
     "start_time": "2021-10-16T17:40:35.931086",
     "status": "completed"
    },
    "tags": []
   },
   "source": [
    "## Question 2\n",
    "\n",
    "Train a random forest model with these parameters:\n",
    "\n",
    "* `n_estimators=10`\n",
    "* `random_state=1`\n",
    "* `n_jobs=-1`  (optional - to make training faster)\n",
    "\n",
    "\n",
    "What's the RMSE of this model on validation?\n",
    "\n",
    "* 0.059\n",
    "* 0.259\n",
    "* 0.459\n",
    "* 0.659"
   ]
  },
  {
   "cell_type": "code",
   "execution_count": 12,
   "id": "a2b5963e",
   "metadata": {
    "execution": {
     "iopub.execute_input": "2021-10-16T17:40:36.007078Z",
     "iopub.status.busy": "2021-10-16T17:40:36.006502Z",
     "iopub.status.idle": "2021-10-16T17:40:36.031490Z",
     "shell.execute_reply": "2021-10-16T17:40:36.030813Z",
     "shell.execute_reply.started": "2021-10-16T17:38:41.708178Z"
    },
    "papermill": {
     "duration": 0.052353,
     "end_time": "2021-10-16T17:40:36.031632",
     "exception": false,
     "start_time": "2021-10-16T17:40:35.979279",
     "status": "completed"
    },
    "tags": []
   },
   "outputs": [],
   "source": [
    "# https://scikit-learn.org/stable/modules/generated/sklearn.ensemble.RandomForestRegressor.html?highlight=randomforest#sklearn.ensemble.RandomForestRegressor\n",
    "from sklearn.ensemble import RandomForestRegressor\n",
    "def get_rmse(y_pred, y_true):\n",
    "    mse = ((y_pred - y_true) ** 2).mean()\n",
    "    return np.sqrt(mse)\n",
    "#enddef"
   ]
  },
  {
   "cell_type": "code",
   "execution_count": 13,
   "id": "b4552298",
   "metadata": {
    "execution": {
     "iopub.execute_input": "2021-10-16T17:40:36.085942Z",
     "iopub.status.busy": "2021-10-16T17:40:36.084060Z",
     "iopub.status.idle": "2021-10-16T17:40:37.788823Z",
     "shell.execute_reply": "2021-10-16T17:40:37.788304Z",
     "shell.execute_reply.started": "2021-10-16T17:38:41.724184Z"
    },
    "papermill": {
     "duration": 1.732495,
     "end_time": "2021-10-16T17:40:37.788982",
     "exception": false,
     "start_time": "2021-10-16T17:40:36.056487",
     "status": "completed"
    },
    "tags": []
   },
   "outputs": [
    {
     "data": {
      "text/plain": [
       "RandomForestRegressor(n_estimators=10, random_state=1)"
      ]
     },
     "execution_count": 13,
     "metadata": {},
     "output_type": "execute_result"
    }
   ],
   "source": [
    "rf = RandomForestRegressor(n_estimators=10, random_state=1) # n_jobs=-1\n",
    "rf.fit(X_train, y_train)"
   ]
  },
  {
   "cell_type": "code",
   "execution_count": 14,
   "id": "2ada1dad",
   "metadata": {
    "execution": {
     "iopub.execute_input": "2021-10-16T17:40:37.845525Z",
     "iopub.status.busy": "2021-10-16T17:40:37.844496Z",
     "iopub.status.idle": "2021-10-16T17:40:37.884994Z",
     "shell.execute_reply": "2021-10-16T17:40:37.884495Z",
     "shell.execute_reply.started": "2021-10-16T17:38:43.430661Z"
    },
    "papermill": {
     "duration": 0.070906,
     "end_time": "2021-10-16T17:40:37.885135",
     "exception": false,
     "start_time": "2021-10-16T17:40:37.814229",
     "status": "completed"
    },
    "tags": []
   },
   "outputs": [
    {
     "data": {
      "text/markdown": [
       "### What's the RMSE of this model on validation? : **0.4599**"
      ],
      "text/plain": [
       "<IPython.core.display.Markdown object>"
      ]
     },
     "execution_count": 14,
     "metadata": {},
     "output_type": "execute_result"
    }
   ],
   "source": [
    "md(f\"### What's the RMSE of this model on validation? : **{get_rmse(rf.predict(X_val), y_val):.4f}**\")\n",
    "# 0.4599"
   ]
  },
  {
   "cell_type": "markdown",
   "id": "88fd8757",
   "metadata": {
    "papermill": {
     "duration": 0.024797,
     "end_time": "2021-10-16T17:40:37.934896",
     "exception": false,
     "start_time": "2021-10-16T17:40:37.910099",
     "status": "completed"
    },
    "tags": []
   },
   "source": [
    "## Question 3\n",
    "\n",
    "Now let's experiment with the `n_estimators` parameter\n",
    "\n",
    "* Try different values of this parameter from 10 to 200 with step 10\n",
    "* Set `random_state` to `1`\n",
    "* Evaluate the model on the validation dataset\n",
    "\n",
    "\n",
    "After which value of `n_estimators` does RMSE stop improving?\n",
    "\n",
    "- 10\n",
    "- 50\n",
    "- 70\n",
    "- 120"
   ]
  },
  {
   "cell_type": "code",
   "execution_count": 15,
   "id": "d56fa6d0",
   "metadata": {
    "execution": {
     "iopub.execute_input": "2021-10-16T17:40:37.992155Z",
     "iopub.status.busy": "2021-10-16T17:40:37.991499Z",
     "iopub.status.idle": "2021-10-16T17:41:46.303676Z",
     "shell.execute_reply": "2021-10-16T17:41:46.304204Z",
     "shell.execute_reply.started": "2021-10-16T17:38:43.475055Z"
    },
    "papermill": {
     "duration": 68.344506,
     "end_time": "2021-10-16T17:41:46.304424",
     "exception": false,
     "start_time": "2021-10-16T17:40:37.959918",
     "status": "completed"
    },
    "tags": []
   },
   "outputs": [
    {
     "name": "stdout",
     "output_type": "stream",
     "text": [
      "10 0.4598535778342608\n",
      "31 0.4449740616858785\n",
      "52 0.4419501068021308\n",
      "73 0.44090304780000233\n",
      "94 0.44008336884350485\n",
      "115 0.43934201468419964\n",
      "136 0.4391147014994749\n",
      "157 0.43891067416530244\n",
      "178 0.4389872111168318\n",
      "200 0.4389432007046648\n"
     ]
    }
   ],
   "source": [
    "with shelve.open(savefile, 'c') as save: \n",
    "    k = 'rmse01'\n",
    "    if k not in save:\n",
    "        rmse_list = {}\n",
    "        for n in np.linspace(10,200,10).astype(int):\n",
    "            rf = RandomForestRegressor(n_estimators=n, random_state=1,n_jobs=-1) \n",
    "            rf.fit(X_train, y_train)\n",
    "            rmse_list[n] = get_rmse(rf.predict(X_val), y_val)\n",
    "            print(n,rmse_list[n])\n",
    "        #endfor\n",
    "        save[k] = rmse_list\n",
    "    else:\n",
    "        rmse_list = save[k]\n",
    "    #endif\n",
    "#endwith        "
   ]
  },
  {
   "cell_type": "code",
   "execution_count": 16,
   "id": "6edb7b5e",
   "metadata": {
    "execution": {
     "iopub.execute_input": "2021-10-16T17:41:46.364816Z",
     "iopub.status.busy": "2021-10-16T17:41:46.364133Z",
     "iopub.status.idle": "2021-10-16T17:41:46.592417Z",
     "shell.execute_reply": "2021-10-16T17:41:46.591638Z",
     "shell.execute_reply.started": "2021-10-16T17:38:43.484899Z"
    },
    "papermill": {
     "duration": 0.261007,
     "end_time": "2021-10-16T17:41:46.592560",
     "exception": false,
     "start_time": "2021-10-16T17:41:46.331553",
     "status": "completed"
    },
    "tags": []
   },
   "outputs": [
    {
     "data": {
      "image/png": "[encoded data removed]",
      "text/plain": [
       "<Figure size 432x288 with 1 Axes>"
      ]
     },
     "metadata": {
      "needs_background": "light"
     },
     "output_type": "display_data"
    }
   ],
   "source": [
    "pd.Series(rmse_list).plot()\n",
    "plt.grid()\n",
    "plt.show()"
   ]
  },
  {
   "cell_type": "markdown",
   "id": "b107700e",
   "metadata": {
    "papermill": {
     "duration": 0.027935,
     "end_time": "2021-10-16T17:41:46.649592",
     "exception": false,
     "start_time": "2021-10-16T17:41:46.621657",
     "status": "completed"
    },
    "tags": []
   },
   "source": [
    "### After which value of n_estimators does RMSE stop improving? **120**"
   ]
  },
  {
   "cell_type": "markdown",
   "id": "528afb2c",
   "metadata": {
    "papermill": {
     "duration": 0.027589,
     "end_time": "2021-10-16T17:41:46.705124",
     "exception": false,
     "start_time": "2021-10-16T17:41:46.677535",
     "status": "completed"
    },
    "tags": []
   },
   "source": [
    "## Question 4\n",
    "\n",
    "Let's select the best `max_depth`:\n",
    "\n",
    "* Try different values of `max_depth`: `[10, 15, 20, 25]`\n",
    "* For each of these values, try different values of `n_estimators` from 10 till 200 (with step 10)\n",
    "* Fix the random seed: `random_state=1`\n",
    "\n",
    "\n",
    "\n",
    "What's the best `max_depth`:\n",
    "\n",
    "* 10\n",
    "* 15\n",
    "* 20\n",
    "* 25"
   ]
  },
  {
   "cell_type": "code",
   "execution_count": 17,
   "id": "f414f98d",
   "metadata": {
    "execution": {
     "iopub.execute_input": "2021-10-16T17:41:46.769771Z",
     "iopub.status.busy": "2021-10-16T17:41:46.769108Z",
     "iopub.status.idle": "2021-10-16T17:45:23.753515Z",
     "shell.execute_reply": "2021-10-16T17:45:23.752995Z",
     "shell.execute_reply.started": "2021-10-16T17:38:43.698873Z"
    },
    "papermill": {
     "duration": 217.020067,
     "end_time": "2021-10-16T17:45:23.753671",
     "exception": false,
     "start_time": "2021-10-16T17:41:46.733604",
     "status": "completed"
    },
    "scrolled": true,
    "tags": []
   },
   "outputs": [
    {
     "name": "stdout",
     "output_type": "stream",
     "text": [
      "10 10 0.445596171749275\n",
      "10 31 0.4414986504059841\n",
      "10 52 0.4410130339565325\n",
      "10 73 0.4407679173594132\n",
      "10 94 0.440217940598878\n",
      "10 115 0.4399747638876593\n",
      "10 136 0.43983174957306237\n",
      "10 157 0.4396148965840452\n",
      "10 178 0.4396916099421784\n",
      "10 200 0.4396792845818297\n",
      "15 10 0.4498175486561694\n",
      "15 31 0.43945221581370114\n",
      "15 52 0.43788522347538045\n",
      "15 73 0.43742232511680196\n",
      "15 94 0.4367991021783366\n",
      "15 115 0.43630885110913603\n",
      "15 136 0.4362696416747989\n",
      "15 157 0.43608195053576243\n",
      "15 178 0.43609089416007457\n",
      "15 200 0.4361312812227011\n",
      "20 10 0.4597643861421082\n",
      "20 31 0.443833611117118\n",
      "20 52 0.441103667367273\n",
      "20 73 0.4401594310659682\n",
      "20 94 0.4391514608761285\n",
      "20 115 0.4383862781240854\n",
      "20 136 0.43810293573041603\n",
      "20 157 0.43773110196271314\n",
      "20 178 0.4376731213332132\n",
      "20 200 0.43764564430470415\n",
      "25 10 0.46070004844483997\n",
      "25 31 0.44459511621456377\n",
      "25 52 0.4421442478922863\n",
      "25 73 0.44131141861554135\n",
      "25 94 0.4403994906569277\n",
      "25 115 0.439561299949833\n",
      "25 136 0.43928048414965926\n",
      "25 157 0.4390045858586755\n",
      "25 178 0.43900388848297894\n",
      "25 200 0.43896329959548797\n"
     ]
    }
   ],
   "source": [
    "rmse_list02 = None\n",
    "with shelve.open(savefile, 'c') as save: \n",
    "    k = 'rmse02'\n",
    "    if k not in save:\n",
    "        rmse_list02 = {}\n",
    "        for d in [10, 15, 20, 25]:\n",
    "            rmse_list02[d] = rmse_list02.get(d,{}) # create empty Dictionary if key doesn't exist yet\n",
    "            for n in np.linspace(10,200,10).astype(int):\n",
    "                if n not in rmse_list02[d]:\n",
    "                    rf = RandomForestRegressor(n_estimators=n\n",
    "                                               ,max_depth=d\n",
    "                                               ,random_state=1\n",
    "                                              ,n_jobs=-1) # \n",
    "                    rf.fit(X_train, y_train)\n",
    "                    rmse_list02[d][n] = get_rmse(rf.predict(X_val), y_val)\n",
    "                #endif\n",
    "                print(d,n,rmse_list02[d][n])\n",
    "            #endfor\n",
    "        #endfor\n",
    "        save[k]= rmse_list02\n",
    "    else:\n",
    "        rmse_list02 = save[k]\n",
    "    #endif\n",
    "#endwith"
   ]
  },
  {
   "cell_type": "code",
   "execution_count": 18,
   "id": "afcf184c",
   "metadata": {
    "execution": {
     "iopub.execute_input": "2021-10-16T17:45:23.832265Z",
     "iopub.status.busy": "2021-10-16T17:45:23.831605Z",
     "iopub.status.idle": "2021-10-16T17:45:24.120998Z",
     "shell.execute_reply": "2021-10-16T17:45:24.120443Z",
     "shell.execute_reply.started": "2021-10-16T17:38:43.711354Z"
    },
    "papermill": {
     "duration": 0.329903,
     "end_time": "2021-10-16T17:45:24.121143",
     "exception": false,
     "start_time": "2021-10-16T17:45:23.791240",
     "status": "completed"
    },
    "tags": []
   },
   "outputs": [
    {
     "data": {
      "image/png": "[encoded data removed]",
      "text/plain": [
       "<Figure size 432x288 with 1 Axes>"
      ]
     },
     "metadata": {
      "needs_background": "light"
     },
     "output_type": "display_data"
    }
   ],
   "source": [
    "plt.figure(figsize=(6, 4))\n",
    "for d in [10, 15, 20, 25]:\n",
    "    x = rmse_list02[d].keys()\n",
    "    y = [rmse_list02[d][n] for n in x]\n",
    "    plt.plot(x, y, label=f'depth={d}')\n",
    "#endfor\n",
    "plt.xticks(range(0, 201, 10))\n",
    "plt.grid()\n",
    "plt.legend()\n",
    "plt.xlabel('n_estimators')\n",
    "plt.ylabel('rmse')\n",
    "plt.show()"
   ]
  },
  {
   "cell_type": "code",
   "execution_count": 19,
   "id": "3905bee5",
   "metadata": {
    "execution": {
     "iopub.execute_input": "2021-10-16T17:45:24.203170Z",
     "iopub.status.busy": "2021-10-16T17:45:24.202531Z",
     "iopub.status.idle": "2021-10-16T17:45:24.206926Z",
     "shell.execute_reply": "2021-10-16T17:45:24.207485Z",
     "shell.execute_reply.started": "2021-10-16T17:38:44.031220Z"
    },
    "papermill": {
     "duration": 0.047381,
     "end_time": "2021-10-16T17:45:24.207675",
     "exception": false,
     "start_time": "2021-10-16T17:45:24.160294",
     "status": "completed"
    },
    "tags": []
   },
   "outputs": [
    {
     "data": {
      "text/markdown": [
       "### What's the best `max_depth`? : **15**"
      ],
      "text/plain": [
       "<IPython.core.display.Markdown object>"
      ]
     },
     "execution_count": 19,
     "metadata": {},
     "output_type": "execute_result"
    }
   ],
   "source": [
    "res = { min([rmse_list02[d][n] for n in rmse_list02[d]]) : d for d in rmse_list02 }\n",
    "md(f\"### What's the best `max_depth`? : **{res[sorted(res)[0]]}**\") # 15"
   ]
  },
  {
   "cell_type": "markdown",
   "id": "801fd7bb",
   "metadata": {
    "papermill": {
     "duration": 0.038208,
     "end_time": "2021-10-16T17:45:24.284521",
     "exception": false,
     "start_time": "2021-10-16T17:45:24.246313",
     "status": "completed"
    },
    "tags": []
   },
   "source": [
    "#### **Bonus question (not graded):**\n",
    "\n",
    "Will the answer be different if we change the seed for the model?\n",
    "\n",
    "**Answer**: it should *not*, since n_estimators is sufficently high (>100)."
   ]
  },
  {
   "cell_type": "markdown",
   "id": "54effe54",
   "metadata": {
    "papermill": {
     "duration": 0.037962,
     "end_time": "2021-10-16T17:45:24.361193",
     "exception": false,
     "start_time": "2021-10-16T17:45:24.323231",
     "status": "completed"
    },
    "tags": []
   },
   "source": [
    "## Question 5\n",
    "\n",
    "We can extract feature importance information from tree-based models. \n",
    "\n",
    "At each step of the decision tree learning algorith, it finds the best split. \n",
    "When doint it, we can calculate \"gain\" - the reduction in impurity before and after the split. \n",
    "This gain is quite useful in understanding what are the imporatant features \n",
    "for tree-based models.\n",
    "\n",
    "In Scikit-Learn, tree-based models contain this information in the\n",
    "[`feature_importances_`](https://scikit-learn.org/stable/modules/generated/sklearn.ensemble.RandomForestRegressor.html#sklearn.ensemble.RandomForestRegressor.feature_importances_)\n",
    "field. \n",
    "\n",
    "For this homework question, we'll find the most important feature:\n",
    "\n",
    "* Train the model with these parametes:\n",
    "    * `n_estimators=10`,\n",
    "    * `max_depth=20`,\n",
    "    * `random_state=1`,\n",
    "    * `n_jobs=-1` (optional)\n",
    "* Get the feature importance information from this model\n",
    "\n",
    "\n",
    "What's the most important feature? \n",
    "\n",
    "* `neighbourhood_group=Manhattan`\n",
    "* `room_type=Entire home/apt`\t\n",
    "* `longitude`\n",
    "* `latitude`"
   ]
  },
  {
   "cell_type": "code",
   "execution_count": 20,
   "id": "c385e00c",
   "metadata": {
    "execution": {
     "iopub.execute_input": "2021-10-16T17:45:24.441584Z",
     "iopub.status.busy": "2021-10-16T17:45:24.440927Z",
     "iopub.status.idle": "2021-10-16T17:45:25.173004Z",
     "shell.execute_reply": "2021-10-16T17:45:25.172410Z",
     "shell.execute_reply.started": "2021-10-16T17:38:44.040386Z"
    },
    "papermill": {
     "duration": 0.773483,
     "end_time": "2021-10-16T17:45:25.173144",
     "exception": false,
     "start_time": "2021-10-16T17:45:24.399661",
     "status": "completed"
    },
    "tags": []
   },
   "outputs": [
    {
     "data": {
      "text/plain": [
       "RandomForestRegressor(max_depth=20, n_estimators=10, n_jobs=-1, random_state=1)"
      ]
     },
     "execution_count": 20,
     "metadata": {},
     "output_type": "execute_result"
    }
   ],
   "source": [
    "rf = RandomForestRegressor(n_estimators=10\n",
    "                           ,max_depth=20\n",
    "                           ,random_state=1\n",
    "                          ,n_jobs=-1) # \n",
    "rf.fit(X_train, y_train)"
   ]
  },
  {
   "cell_type": "code",
   "execution_count": 21,
   "id": "6857d4b2",
   "metadata": {
    "execution": {
     "iopub.execute_input": "2021-10-16T17:45:25.253752Z",
     "iopub.status.busy": "2021-10-16T17:45:25.253136Z",
     "iopub.status.idle": "2021-10-16T17:45:25.364489Z",
     "shell.execute_reply": "2021-10-16T17:45:25.364999Z",
     "shell.execute_reply.started": "2021-10-16T17:38:44.765977Z"
    },
    "papermill": {
     "duration": 0.15348,
     "end_time": "2021-10-16T17:45:25.365183",
     "exception": false,
     "start_time": "2021-10-16T17:45:25.211703",
     "status": "completed"
    },
    "tags": []
   },
   "outputs": [
    {
     "data": {
      "text/markdown": [
       "### What's the most important feature? : **room_type=Entire home/apt**"
      ],
      "text/plain": [
       "<IPython.core.display.Markdown object>"
      ]
     },
     "execution_count": 21,
     "metadata": {},
     "output_type": "execute_result"
    }
   ],
   "source": [
    "importances = list(zip(dv.feature_names_, rf.feature_importances_))\n",
    "df_importance = (\n",
    "    pd.DataFrame(importances, columns=['feature', 'gain'])\n",
    "#       [lambda x : x['gain'] > 0]\n",
    "     .sort_values(by='gain', ascending=False)\n",
    ")\n",
    "md(f\"### What's the most important feature? : **{df_importance['feature'].iloc[0]}**\")\n",
    "# room_type=Entire home/apt"
   ]
  },
  {
   "cell_type": "markdown",
   "id": "a965e9b3",
   "metadata": {
    "papermill": {
     "duration": 0.038728,
     "end_time": "2021-10-16T17:45:25.442912",
     "exception": false,
     "start_time": "2021-10-16T17:45:25.404184",
     "status": "completed"
    },
    "tags": []
   },
   "source": [
    "## Question 6\n",
    "\n",
    "Now let's train an XGBoost model! For this question, we'll tune the `eta` parameter\n",
    "\n",
    "* Install XGBoost\n",
    "* Create DMatrix for train and validation\n",
    "* Create a watchlist\n",
    "* Train a model with these parameters for 100 rounds:\n",
    "\n",
    "```\n",
    "xgb_params = {\n",
    "    'eta': 0.3, \n",
    "    'max_depth': 6,\n",
    "    'min_child_weight': 1,\n",
    "    \n",
    "    'objective': 'reg:squarederror',\n",
    "    'nthread': 8,\n",
    "    \n",
    "    'seed': 1,\n",
    "    'verbosity': 1,\n",
    "}\n",
    "```\n",
    "\n",
    "Now change `eta` first to `0.1` and then to `0.01`\n",
    "\n",
    "What's the best eta?\n",
    "\n",
    "* 0.3\n",
    "* 0.1\n",
    "* 0.01"
   ]
  },
  {
   "cell_type": "code",
   "execution_count": 22,
   "id": "79f8fce6",
   "metadata": {
    "execution": {
     "iopub.execute_input": "2021-10-16T17:45:25.524832Z",
     "iopub.status.busy": "2021-10-16T17:45:25.524238Z",
     "iopub.status.idle": "2021-10-16T17:45:25.616809Z",
     "shell.execute_reply": "2021-10-16T17:45:25.616278Z",
     "shell.execute_reply.started": "2021-10-16T17:38:44.879715Z"
    },
    "papermill": {
     "duration": 0.135221,
     "end_time": "2021-10-16T17:45:25.616971",
     "exception": false,
     "start_time": "2021-10-16T17:45:25.481750",
     "status": "completed"
    },
    "tags": []
   },
   "outputs": [],
   "source": [
    "import xgboost as xgb # Install XGBoost\n",
    "def parse_xgb_output(output):\n",
    "    tree = []\n",
    "    p_train = []\n",
    "    p_val = []\n",
    "\n",
    "    for line in output.stdout.strip().split('\\n'):\n",
    "        it_line, train_line, val_line = line.split('\\t')\n",
    "\n",
    "        it = int(it_line.strip('[]'))\n",
    "        train = float(train_line.split(':')[1])\n",
    "        val = float(val_line.split(':')[1])\n",
    "\n",
    "        tree.append(it)\n",
    "        p_train.append(train)\n",
    "        p_val.append(val)\n",
    "\n",
    "    return tree, p_train, p_val\n",
    "#enddef"
   ]
  },
  {
   "cell_type": "code",
   "execution_count": 23,
   "id": "f6a14183",
   "metadata": {
    "execution": {
     "iopub.execute_input": "2021-10-16T17:45:25.699759Z",
     "iopub.status.busy": "2021-10-16T17:45:25.699124Z",
     "iopub.status.idle": "2021-10-16T17:45:25.716717Z",
     "shell.execute_reply": "2021-10-16T17:45:25.717298Z",
     "shell.execute_reply.started": "2021-10-16T17:38:44.888765Z"
    },
    "papermill": {
     "duration": 0.06091,
     "end_time": "2021-10-16T17:45:25.717512",
     "exception": false,
     "start_time": "2021-10-16T17:45:25.656602",
     "status": "completed"
    },
    "tags": []
   },
   "outputs": [],
   "source": [
    "# Create DMatrix for train and validation\n",
    "dtrain = xgb.DMatrix(X_train, label=y_train, feature_names=dv.feature_names_)\n",
    "dval = xgb.DMatrix(X_val, label=y_val, feature_names=dv.feature_names_)\n",
    "# Create a watchlist\n",
    "watchlist = [(dtrain, 'train'), (dval, 'val')]\n",
    "# Train a model with these parameters for 100 rounds:\n",
    "xgb_params = {\n",
    "    'eta': 0.3, \n",
    "    'max_depth': 6,\n",
    "    'min_child_weight': 1,\n",
    "\n",
    "    'objective': 'reg:squarederror',\n",
    "    'nthread': 8,\n",
    "\n",
    "    'seed': 1,\n",
    "    'verbosity': 1,\n",
    "}"
   ]
  },
  {
   "cell_type": "code",
   "execution_count": 24,
   "id": "94e4b97d",
   "metadata": {
    "execution": {
     "iopub.execute_input": "2021-10-16T17:45:25.805002Z",
     "iopub.status.busy": "2021-10-16T17:45:25.801155Z",
     "iopub.status.idle": "2021-10-16T17:45:28.058686Z",
     "shell.execute_reply": "2021-10-16T17:45:28.058044Z",
     "shell.execute_reply.started": "2021-10-16T17:38:44.914116Z"
    },
    "papermill": {
     "duration": 2.30113,
     "end_time": "2021-10-16T17:45:28.058830",
     "exception": false,
     "start_time": "2021-10-16T17:45:25.757700",
     "status": "completed"
    },
    "tags": []
   },
   "outputs": [],
   "source": [
    "%%capture output\n",
    "# capture instruction that saves the result to output \n",
    "xgb_params['eta'] = 0.3\n",
    "model = xgb.train(xgb_params, dtrain,\n",
    "                  num_boost_round=100,\n",
    "                  evals=watchlist, verbose_eval=10)"
   ]
  },
  {
   "cell_type": "code",
   "execution_count": 25,
   "id": "f7d6316e",
   "metadata": {
    "execution": {
     "iopub.execute_input": "2021-10-16T17:45:28.160472Z",
     "iopub.status.busy": "2021-10-16T17:45:28.146264Z",
     "iopub.status.idle": "2021-10-16T17:45:28.516442Z",
     "shell.execute_reply": "2021-10-16T17:45:28.516899Z",
     "shell.execute_reply.started": "2021-10-16T17:38:47.154964Z"
    },
    "papermill": {
     "duration": 0.418306,
     "end_time": "2021-10-16T17:45:28.517104",
     "exception": false,
     "start_time": "2021-10-16T17:45:28.098798",
     "status": "completed"
    },
    "tags": []
   },
   "outputs": [
    {
     "name": "stdout",
     "output_type": "stream",
     "text": [
      "Eta=0.3 : Best performance (squarederror, number of trees)  (0.43384, 50)\n"
     ]
    },
    {
     "data": {
      "image/png": "[encoded data removed]",
      "text/plain": [
       "<Figure size 432x288 with 1 Axes>"
      ]
     },
     "metadata": {
      "needs_background": "light"
     },
     "output_type": "display_data"
    }
   ],
   "source": [
    "tree, p_train, p_val = parse_xgb_output(output)\n",
    "print(f'Eta={xgb_params[\"eta\"]} : Best performance (squarederror, number of trees) ', min(zip(p_val, tree)))\n",
    "\n",
    "plt.figure(figsize=(6, 4))\n",
    "plt.plot(tree, p_train, color='black', linestyle='dashed', label='Train Loss')\n",
    "plt.plot(tree, p_val, color='black', linestyle='solid', label='Validation Loss')\n",
    "# plt.xticks(range(0, 101, 25))\n",
    "plt.legend()\n",
    "plt.title('XGBoost: number of trees vs \"squarederror\"')\n",
    "plt.xlabel('Number of trees')\n",
    "plt.ylabel('squarederror')\n",
    "plt.yscale('log')\n",
    "plt.show()"
   ]
  },
  {
   "cell_type": "code",
   "execution_count": 26,
   "id": "fe2fad61",
   "metadata": {
    "execution": {
     "iopub.execute_input": "2021-10-16T17:45:28.600660Z",
     "iopub.status.busy": "2021-10-16T17:45:28.599728Z",
     "iopub.status.idle": "2021-10-16T17:45:30.986846Z",
     "shell.execute_reply": "2021-10-16T17:45:30.986336Z",
     "shell.execute_reply.started": "2021-10-16T17:38:47.520239Z"
    },
    "papermill": {
     "duration": 2.429846,
     "end_time": "2021-10-16T17:45:30.987007",
     "exception": false,
     "start_time": "2021-10-16T17:45:28.557161",
     "status": "completed"
    },
    "tags": []
   },
   "outputs": [],
   "source": [
    "%%capture output_010\n",
    "# capture instruction that saves the result to output \n",
    "xgb_params['eta'] = 0.1\n",
    "model = xgb.train(xgb_params, dtrain,\n",
    "                  num_boost_round=100,\n",
    "                  evals=watchlist, verbose_eval=10)"
   ]
  },
  {
   "cell_type": "code",
   "execution_count": 27,
   "id": "80a5d4c4",
   "metadata": {
    "execution": {
     "iopub.execute_input": "2021-10-16T17:45:31.073165Z",
     "iopub.status.busy": "2021-10-16T17:45:31.072484Z",
     "iopub.status.idle": "2021-10-16T17:45:31.075504Z",
     "shell.execute_reply": "2021-10-16T17:45:31.075935Z",
     "shell.execute_reply.started": "2021-10-16T17:38:49.988467Z"
    },
    "papermill": {
     "duration": 0.048935,
     "end_time": "2021-10-16T17:45:31.076120",
     "exception": false,
     "start_time": "2021-10-16T17:45:31.027185",
     "status": "completed"
    },
    "tags": []
   },
   "outputs": [
    {
     "name": "stdout",
     "output_type": "stream",
     "text": [
      "Eta=0.1 : Best performance (squarederror, number of trees)  (0.4325, 99)\n"
     ]
    }
   ],
   "source": [
    "tree, _, p_val = parse_xgb_output(output_010)\n",
    "print(f'Eta={xgb_params[\"eta\"]} : Best performance (squarederror, number of trees) ', min(zip(p_val, tree)))"
   ]
  },
  {
   "cell_type": "code",
   "execution_count": 28,
   "id": "62b6eeb7",
   "metadata": {
    "execution": {
     "iopub.execute_input": "2021-10-16T17:45:31.165867Z",
     "iopub.status.busy": "2021-10-16T17:45:31.164872Z",
     "iopub.status.idle": "2021-10-16T17:45:33.624524Z",
     "shell.execute_reply": "2021-10-16T17:45:33.623611Z",
     "shell.execute_reply.started": "2021-10-16T17:38:49.997243Z"
    },
    "papermill": {
     "duration": 2.50728,
     "end_time": "2021-10-16T17:45:33.624671",
     "exception": false,
     "start_time": "2021-10-16T17:45:31.117391",
     "status": "completed"
    },
    "tags": []
   },
   "outputs": [],
   "source": [
    "%%capture output_001\n",
    "# capture instruction that saves the result to output \n",
    "xgb_params['eta'] = 0.01\n",
    "model = xgb.train(xgb_params, dtrain,\n",
    "                  num_boost_round=100,\n",
    "                  evals=watchlist, verbose_eval=10)"
   ]
  },
  {
   "cell_type": "code",
   "execution_count": 29,
   "id": "3ccd127b",
   "metadata": {
    "execution": {
     "iopub.execute_input": "2021-10-16T17:45:33.708703Z",
     "iopub.status.busy": "2021-10-16T17:45:33.708156Z",
     "iopub.status.idle": "2021-10-16T17:45:33.713212Z",
     "shell.execute_reply": "2021-10-16T17:45:33.713615Z",
     "shell.execute_reply.started": "2021-10-16T17:38:52.537232Z"
    },
    "papermill": {
     "duration": 0.048517,
     "end_time": "2021-10-16T17:45:33.713782",
     "exception": false,
     "start_time": "2021-10-16T17:45:33.665265",
     "status": "completed"
    },
    "tags": []
   },
   "outputs": [
    {
     "name": "stdout",
     "output_type": "stream",
     "text": [
      "Eta=0.01 : Best performance (squarederror, number of trees)  (1.63045, 99)\n"
     ]
    }
   ],
   "source": [
    "tree, _, p_val = parse_xgb_output(output_001)\n",
    "print(f'Eta={xgb_params[\"eta\"]} : Best performance (squarederror, number of trees) ', min(zip(p_val, tree)))"
   ]
  },
  {
   "cell_type": "code",
   "execution_count": 30,
   "id": "69e9b2ae",
   "metadata": {
    "execution": {
     "iopub.execute_input": "2021-10-16T17:45:33.825296Z",
     "iopub.status.busy": "2021-10-16T17:45:33.824276Z",
     "iopub.status.idle": "2021-10-16T17:45:33.990202Z",
     "shell.execute_reply": "2021-10-16T17:45:33.989580Z",
     "shell.execute_reply.started": "2021-10-16T17:38:52.547178Z"
    },
    "papermill": {
     "duration": 0.235954,
     "end_time": "2021-10-16T17:45:33.990339",
     "exception": false,
     "start_time": "2021-10-16T17:45:33.754385",
     "status": "completed"
    },
    "tags": []
   },
   "outputs": [
    {
     "name": "stdout",
     "output_type": "stream",
     "text": [
      "Eta=0.3 : Best performance (squarederror, number of trees)  (0.43384, 50)\n",
      "Eta=0.1 : Best performance (squarederror, number of trees)  (0.4325, 99)\n",
      "Eta=0.01 : Best performance (squarederror, number of trees)  (1.63045, 99)\n"
     ]
    },
    {
     "data": {
      "image/png": "[encoded data removed]",
      "text/plain": [
       "<Figure size 432x288 with 1 Axes>"
      ]
     },
     "metadata": {
      "needs_background": "light"
     },
     "output_type": "display_data"
    }
   ],
   "source": [
    "plt.figure(figsize=(6, 4))\n",
    "for eta, out in zip([0.3,0.1,0.01],[output,output_010,output_001]):\n",
    "    tree, _, p_val = parse_xgb_output(out)\n",
    "    #plt.plot(tree, p_train, color='black', linestyle='dashed', label='eta=eta, Train Loss')\n",
    "    plt.plot(tree, p_val, linestyle='solid', label=f'eta={eta}')\n",
    "    print(f'Eta={eta} : Best performance (squarederror, number of trees) ', min(zip(p_val, tree)))\n",
    "    \n",
    "# plt.xticks(range(0, 101, 25))\n",
    "plt.legend()\n",
    "plt.title('XGBoost: number of trees vs Validation \"squarederror\"')\n",
    "plt.xlabel('Number of trees')\n",
    "plt.ylabel('Validation \"squarederror\"')\n",
    "# plt.yscale('log')\n",
    "plt.ylim(0.43,0.46)\n",
    "plt.grid()\n",
    "plt.show()"
   ]
  },
  {
   "cell_type": "code",
   "execution_count": 31,
   "id": "a2419232",
   "metadata": {
    "execution": {
     "iopub.execute_input": "2021-10-16T17:45:34.082934Z",
     "iopub.status.busy": "2021-10-16T17:45:34.082181Z",
     "iopub.status.idle": "2021-10-16T17:45:34.085160Z",
     "shell.execute_reply": "2021-10-16T17:45:34.085588Z",
     "shell.execute_reply.started": "2021-10-16T17:38:52.813828Z"
    },
    "papermill": {
     "duration": 0.053742,
     "end_time": "2021-10-16T17:45:34.085743",
     "exception": false,
     "start_time": "2021-10-16T17:45:34.032001",
     "status": "completed"
    },
    "tags": []
   },
   "outputs": [
    {
     "data": {
      "text/markdown": [
       "### What's the best eta? **0.1**"
      ],
      "text/plain": [
       "<IPython.core.display.Markdown object>"
      ]
     },
     "execution_count": 31,
     "metadata": {},
     "output_type": "execute_result"
    }
   ],
   "source": [
    "md(\"### What's the best eta? **0.1**\")"
   ]
  },
  {
   "cell_type": "code",
   "execution_count": null,
   "id": "e0642042",
   "metadata": {
    "papermill": {
     "duration": 0.043155,
     "end_time": "2021-10-16T17:45:34.171910",
     "exception": false,
     "start_time": "2021-10-16T17:45:34.128755",
     "status": "completed"
    },
    "tags": []
   },
   "outputs": [],
   "source": []
  }
 ],
 "metadata": {
  "kernelspec": {
   "display_name": "Python 3",
   "language": "python",
   "name": "python3"
  },
  "language_info": {
   "codemirror_mode": {
    "name": "ipython",
    "version": 3
   },
   "file_extension": ".py",
   "mimetype": "text/x-python",
   "name": "python",
   "nbconvert_exporter": "python",
   "pygments_lexer": "ipython3",
   "version": "3.7.10"
  },
  "papermill": {
   "default_parameters": {},
   "duration": 310.69502,
   "end_time": "2021-10-16T17:45:34.926817",
   "environment_variables": {},
   "exception": null,
   "input_path": "__notebook__.ipynb",
   "output_path": "__notebook__.ipynb",
   "parameters": {},
   "start_time": "2021-10-16T17:40:24.231797",
   "version": "2.3.3"
  }
 },
 "nbformat": 4,
 "nbformat_minor": 5
}
